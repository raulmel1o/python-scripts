{
 "metadata": {
  "language_info": {
   "codemirror_mode": {
    "name": "ipython",
    "version": 3
   },
   "file_extension": ".py",
   "mimetype": "text/x-python",
   "name": "python",
   "nbconvert_exporter": "python",
   "pygments_lexer": "ipython3",
   "version": "3.8.3-final"
  },
  "orig_nbformat": 2,
  "kernelspec": {
   "name": "python_defaultSpec_1600433856110",
   "display_name": "Python 3.8.3 64-bit ('base': conda)"
  }
 },
 "nbformat": 4,
 "nbformat_minor": 2,
 "cells": [
  {
   "cell_type": "code",
   "execution_count": 1,
   "metadata": {},
   "outputs": [],
   "source": [
    "import datetime\n",
    "import pandas as pd\n",
    "import mysql.connector"
   ]
  },
  {
   "cell_type": "code",
   "execution_count": 2,
   "metadata": {},
   "outputs": [],
   "source": [
    "mydb = mysql.connector.connect(\n",
    "    host=\"localhost\",\n",
    "    user=\"root\",\n",
    "    password=\"rms20020429\",\n",
    "    database=\"cpmvp\"\n",
    ")\n",
    "\n",
    "mycursor = mydb.cursor()"
   ]
  },
  {
   "cell_type": "code",
   "execution_count": 3,
   "metadata": {},
   "outputs": [],
   "source": [
    "def query_builder(i):\n",
    "\n",
    "    query = \"INSERT INTO projetos (regiao_campus,nome_projeto,objetivo_projeto,descricao_projeto, universidade_projeto,categoria_universidade, campus_universidade, uf_campus, municipio_campus, responsaveis_projeto, link_projeto, contato_projeto, categoria_projeto, financiamento_projeto, alvo_projeto, abrangencia_projeto, contribuicao_projeto, info_projeto, updatedAt)\\nVALUES (\\'{regiao}\\', \\'{nome}\\', \\'{objetivo}\\', \\'{descricao}\\', \\'{universidade}\\', \\'{categoria_u}\\', \\'{campus}\\', \\'{uf}\\', \\'{municipio}\\', \\'{responsaveis}\\', \\'{link}\\', \\'{contato}\\', \\'{categoria}\\', \\'{financiamento}\\', \\'{alvo}\\', \\'{abrangencia}\\', \\'{contribuicao}\\', \\'{info}\\', \\'{updatedAt}\\');\".format(regiao=cp_csv.iloc[i,0].strip(), nome=cp_csv.iloc[i,1].strip(), objetivo=cp_csv.iloc[i,2].strip(), descricao=cp_csv.iloc[i,3].strip(), universidade=cp_csv.iloc[i,4].strip(), categoria_u=cp_csv.iloc[i,5].strip(), campus=cp_csv.iloc[i,6].strip(), uf=cp_csv.iloc[i,7].strip(), municipio=cp_csv.iloc[i,8].strip(), responsaveis=cp_csv.iloc[i,9].strip(), link=cp_csv.iloc[i,10].strip(), contato=cp_csv.iloc[i,11].strip(), categoria=cp_csv.iloc[i,12].strip(), financiamento=cp_csv.iloc[i,13].strip(), alvo=cp_csv.iloc[i,14].strip(), abrangencia=cp_csv.iloc[i,15].strip(), contribuicao=cp_csv.iloc[i,16].strip(), info=cp_csv.iloc[i,17].strip(), updatedAt=str(datetime.datetime.now())[0:-7])\n",
    "\n",
    "    return query    "
   ]
  },
  {
   "cell_type": "code",
   "execution_count": 4,
   "metadata": {},
   "outputs": [],
   "source": [
    "def query_executer(r):\n",
    "    ok = 0\n",
    "    err = 0\n",
    "\n",
    "    file_name = 'log.txt'\n",
    "\n",
    "    f = open(file_name, 'w+', encoding='utf-8')\n",
    "\n",
    "    f.write('{date}\\n'.format(date=datetime.datetime.now()))\n",
    "\n",
    "    for i in range(r):\n",
    "        try:\n",
    "            mycursor.execute(query_builder(i))\n",
    "            f.write('{row} - OK\\r'.format(row=i))\n",
    "            ok += 1\n",
    "        except:\n",
    "            f.write(\"{row} - Error\\r\\n {query}\\r\\n\".format(row=i, query=query_builder(i)))\n",
    "            err += 1\n",
    "\n",
    "    print(\"Finished: {ok} query's executed and {err} errors\".format(ok=ok, err=err))"
   ]
  },
  {
   "cell_type": "code",
   "execution_count": 5,
   "metadata": {
    "tags": []
   },
   "outputs": [
    {
     "output_type": "stream",
     "name": "stdout",
     "text": "0\n"
    }
   ],
   "source": [
    "mycursor.execute(\"SELECT * FROM projetos;\")\n",
    "\n",
    "result = mycursor.fetchall()\n",
    "\n",
    "print(len(result))\n",
    "\n",
    "# for x in result:\n",
    "    # print(x)"
   ]
  },
  {
   "cell_type": "code",
   "execution_count": null,
   "metadata": {},
   "outputs": [],
   "source": [
    "mycursor.execute(\"TRUNCATE TABLE projetos;\")"
   ]
  },
  {
   "cell_type": "code",
   "execution_count": 9,
   "metadata": {},
   "outputs": [],
   "source": [
    "# import csv\n",
    "\n",
    "cp_csv = pd.read_csv('cp_backup.csv', encoding='utf-8')"
   ]
  },
  {
   "cell_type": "code",
   "execution_count": 10,
   "metadata": {},
   "outputs": [],
   "source": [
    "# filter csv\n",
    "\n",
    "cp_csv.fillna('null', inplace=True)\n",
    "cp_csv.replace(to_replace='-', value='null', inplace=True)\n",
    "cp_csv.drop([2005,2006, 2007], inplace=True)\n",
    "cp_csv = cp_csv.replace(to_replace='\\n',value='', regex=True)"
   ]
  },
  {
   "cell_type": "code",
   "execution_count": 11,
   "metadata": {},
   "outputs": [
    {
     "output_type": "execute_result",
     "data": {
      "text/plain": "         REGIÃO                                     PROJETO / AÇÃO  \\\n0       Sudeste  Produção de Álcool em Gel, sabonetes e outros ...   \n1           Sul  Aquisição de equipamentos para diagnóstico lab...   \n2  Centro Oeste  COVID-19: Ações de educação em saúde durante a...   \n3           Sul       Dito Efeito Literário - projeto de extensão    \n4  Centro Oeste  Produção e entrega máscaras de tecido para Ins...   \n\n                                            OBJETIVO  \\\n0                                               null   \n1                                               null   \n2  Fornecer informações de qualidade com embasame...   \n3   Estimular hábito da leitura, fazer uso da lit...   \n4  Contribuir na prevenção da disseminação do cor...   \n\n                                           DESCRIÇÃO UNIV. / INST.  \\\n0  Produção de sabonete líquido para higienização...          UFOP   \n1  PROJETO DE EXTENSÃO “LABORATÓRIO DIAGNÓSTICO T...          UFFS   \n2   Criação de diversas produções, boa parte em v...          UEMS   \n3   Dito Efeito Literário é projeto de extensão q...         UDESC   \n4   Entrega de 90 máscaras de tecido para a Comun...        UNEMAT   \n\n        CATEGORIA DA INSTITUIÇÃO  \\\n0   Universidade Pública Federal   \n1   Universidade Pública Federal   \n2  Universidade Pública Estadual   \n3  Universidade Pública Estadual   \n4  Universidade Pública Estadual   \n\n                       ÓRGÃO / DEPARTAMENTO / CAMPUS  UF         MUNICÍPIO  \\\n0                                               null  MG        Ouro Preto   \n1                                               null  SC           Chapecó   \n2  Enfermagem UEMS/Dourados e Mestrado Ensino em ...  MS          Dourados   \n3                    CEART- Centro de Artes da UDESC  SC     Florianópolis   \n4                            UNEMAT Tangará da Serra  MT  Tangará da Serra   \n\n                                        RESPONSÁVEIS  \\\n0                                               null   \n1                                               null   \n2  Profa. Ma. Simone Vidmantas, Profa Dra. Ana Lú...   \n3                                     Karin Vanelli    \n4                                               null   \n\n                                  LINK (ACESSO/SITE)  \\\n0  Disponibilizamos o e-mail do professor Orlando...   \n1  Considerando que a ação ainda está em processo...   \n2  http://www.uems.br/noticias/detalhes/covid-19-...   \n3    https://www.linktree.com.br/ditoefeitoliterario   \n4                http://unemat.br/?pg=noticia/13089/   \n\n                                             CONTATO CATEGORIA  \\\n0                             chicodaher@ufop.edu.br  extensão   \n1                          claunir.pavan@uffs.edu.br  extensão   \n2  simonevidmantas@uems.br/ anamarran@uems.br/  c...    ensino   \n3   ditoefeitoliterario@gmail.com  Insta: @ditoef...  extensão   \n4                                               link  extensão   \n\n    Financiamento                 PÚBLICO-ALVO           ABRANGÊNCIA  \\\n0  sem informação  população e sociedade civil  abrangência regional   \n1  sem informação  população e sociedade civil  abrangência regional   \n2  sem informação  população e sociedade civil    abrangência global   \n3  sem informação  população e sociedade civil  abrangência nacional   \n4  sem informação     ONGs, OSCIPs, OSs e OSCs     abrangência local   \n\n                                        CONTRIBUIÇÃO  \\\n0  produção de desinfetantes (ex: álcool ou água ...   \n1                   produção de testes para covid-19   \n2  disseminação de informações e divulgação cient...   \n3  orientações ou apoio ao isolamento social (ex:...   \n4  produção de EPIs (ex: face shield, máscara ou ...   \n\n                              INFORMAÇÕES ADICIONAIS  \\\n0    Número estimado de pessoas beneficiadas: 180000   \n1   Número estimado de pessoas beneficiadas: 1000000   \n2  Canal do Youtube: https://www.youtube.com/chan...   \n3                                               null   \n4                                               null   \n\n                                 DATA DE ATUALIZAÇÃO  \n0  14/07/2020 - Dados fornecidos pelo Ministério ...  \n1  14/07/2020 - Dados fornecidos pelo Ministério ...  \n2                                         24/05/2020  \n3                                         05/09/2020  \n4                                         25/05/2020  ",
      "text/html": "<div>\n<style scoped>\n    .dataframe tbody tr th:only-of-type {\n        vertical-align: middle;\n    }\n\n    .dataframe tbody tr th {\n        vertical-align: top;\n    }\n\n    .dataframe thead th {\n        text-align: right;\n    }\n</style>\n<table border=\"1\" class=\"dataframe\">\n  <thead>\n    <tr style=\"text-align: right;\">\n      <th></th>\n      <th>REGIÃO</th>\n      <th>PROJETO / AÇÃO</th>\n      <th>OBJETIVO</th>\n      <th>DESCRIÇÃO</th>\n      <th>UNIV. / INST.</th>\n      <th>CATEGORIA DA INSTITUIÇÃO</th>\n      <th>ÓRGÃO / DEPARTAMENTO / CAMPUS</th>\n      <th>UF</th>\n      <th>MUNICÍPIO</th>\n      <th>RESPONSÁVEIS</th>\n      <th>LINK (ACESSO/SITE)</th>\n      <th>CONTATO</th>\n      <th>CATEGORIA</th>\n      <th>Financiamento</th>\n      <th>PÚBLICO-ALVO</th>\n      <th>ABRANGÊNCIA</th>\n      <th>CONTRIBUIÇÃO</th>\n      <th>INFORMAÇÕES ADICIONAIS</th>\n      <th>DATA DE ATUALIZAÇÃO</th>\n    </tr>\n  </thead>\n  <tbody>\n    <tr>\n      <th>0</th>\n      <td>Sudeste</td>\n      <td>Produção de Álcool em Gel, sabonetes e outros ...</td>\n      <td>null</td>\n      <td>Produção de sabonete líquido para higienização...</td>\n      <td>UFOP</td>\n      <td>Universidade Pública Federal</td>\n      <td>null</td>\n      <td>MG</td>\n      <td>Ouro Preto</td>\n      <td>null</td>\n      <td>Disponibilizamos o e-mail do professor Orlando...</td>\n      <td>chicodaher@ufop.edu.br</td>\n      <td>extensão</td>\n      <td>sem informação</td>\n      <td>população e sociedade civil</td>\n      <td>abrangência regional</td>\n      <td>produção de desinfetantes (ex: álcool ou água ...</td>\n      <td>Número estimado de pessoas beneficiadas: 180000</td>\n      <td>14/07/2020 - Dados fornecidos pelo Ministério ...</td>\n    </tr>\n    <tr>\n      <th>1</th>\n      <td>Sul</td>\n      <td>Aquisição de equipamentos para diagnóstico lab...</td>\n      <td>null</td>\n      <td>PROJETO DE EXTENSÃO “LABORATÓRIO DIAGNÓSTICO T...</td>\n      <td>UFFS</td>\n      <td>Universidade Pública Federal</td>\n      <td>null</td>\n      <td>SC</td>\n      <td>Chapecó</td>\n      <td>null</td>\n      <td>Considerando que a ação ainda está em processo...</td>\n      <td>claunir.pavan@uffs.edu.br</td>\n      <td>extensão</td>\n      <td>sem informação</td>\n      <td>população e sociedade civil</td>\n      <td>abrangência regional</td>\n      <td>produção de testes para covid-19</td>\n      <td>Número estimado de pessoas beneficiadas: 1000000</td>\n      <td>14/07/2020 - Dados fornecidos pelo Ministério ...</td>\n    </tr>\n    <tr>\n      <th>2</th>\n      <td>Centro Oeste</td>\n      <td>COVID-19: Ações de educação em saúde durante a...</td>\n      <td>Fornecer informações de qualidade com embasame...</td>\n      <td>Criação de diversas produções, boa parte em v...</td>\n      <td>UEMS</td>\n      <td>Universidade Pública Estadual</td>\n      <td>Enfermagem UEMS/Dourados e Mestrado Ensino em ...</td>\n      <td>MS</td>\n      <td>Dourados</td>\n      <td>Profa. Ma. Simone Vidmantas, Profa Dra. Ana Lú...</td>\n      <td>http://www.uems.br/noticias/detalhes/covid-19-...</td>\n      <td>simonevidmantas@uems.br/ anamarran@uems.br/  c...</td>\n      <td>ensino</td>\n      <td>sem informação</td>\n      <td>população e sociedade civil</td>\n      <td>abrangência global</td>\n      <td>disseminação de informações e divulgação cient...</td>\n      <td>Canal do Youtube: https://www.youtube.com/chan...</td>\n      <td>24/05/2020</td>\n    </tr>\n    <tr>\n      <th>3</th>\n      <td>Sul</td>\n      <td>Dito Efeito Literário - projeto de extensão</td>\n      <td>Estimular hábito da leitura, fazer uso da lit...</td>\n      <td>Dito Efeito Literário é projeto de extensão q...</td>\n      <td>UDESC</td>\n      <td>Universidade Pública Estadual</td>\n      <td>CEART- Centro de Artes da UDESC</td>\n      <td>SC</td>\n      <td>Florianópolis</td>\n      <td>Karin Vanelli</td>\n      <td>https://www.linktree.com.br/ditoefeitoliterario</td>\n      <td>ditoefeitoliterario@gmail.com  Insta: @ditoef...</td>\n      <td>extensão</td>\n      <td>sem informação</td>\n      <td>população e sociedade civil</td>\n      <td>abrangência nacional</td>\n      <td>orientações ou apoio ao isolamento social (ex:...</td>\n      <td>null</td>\n      <td>05/09/2020</td>\n    </tr>\n    <tr>\n      <th>4</th>\n      <td>Centro Oeste</td>\n      <td>Produção e entrega máscaras de tecido para Ins...</td>\n      <td>Contribuir na prevenção da disseminação do cor...</td>\n      <td>Entrega de 90 máscaras de tecido para a Comun...</td>\n      <td>UNEMAT</td>\n      <td>Universidade Pública Estadual</td>\n      <td>UNEMAT Tangará da Serra</td>\n      <td>MT</td>\n      <td>Tangará da Serra</td>\n      <td>null</td>\n      <td>http://unemat.br/?pg=noticia/13089/</td>\n      <td>link</td>\n      <td>extensão</td>\n      <td>sem informação</td>\n      <td>ONGs, OSCIPs, OSs e OSCs</td>\n      <td>abrangência local</td>\n      <td>produção de EPIs (ex: face shield, máscara ou ...</td>\n      <td>null</td>\n      <td>25/05/2020</td>\n    </tr>\n  </tbody>\n</table>\n</div>"
     },
     "metadata": {},
     "execution_count": 11
    }
   ],
   "source": [
    "cp_csv.head()"
   ]
  }
 ]
}